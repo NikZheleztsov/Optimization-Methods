{
 "cells": [
  {
   "cell_type": "markdown",
   "id": "67ec2033",
   "metadata": {},
   "source": [
    "# Многокритериальная оптимизация\n",
    "---\n",
    "**Выполнил:** Железцов Н.В. <br>\n",
    "**Группа:** ИУ8-34 <br>\n",
    "**Вариант:** 8\n",
    "---"
   ]
  },
  {
   "cell_type": "markdown",
   "id": "bb8ff1bb",
   "metadata": {},
   "source": [
    "### Цель работы\n",
    "\n",
    "Изучить постановку задачи многокритериальной оптимизации (МКО);\n",
    "овладеть навыками решения задач МКО с помощью различных методов,\n",
    "выполнить сравнительный анализ результатов, полученных при помощи\n",
    "разных методов."
   ]
  },
  {
   "cell_type": "markdown",
   "id": "9de45bcb",
   "metadata": {},
   "source": [
    "### Постановка задачи\n",
    "\n",
    "Выбрать лучшую из альтернатив решения предложенной задачи по\n",
    "варианту с точки зрения указанных критериев следующими\n",
    "методами:\n",
    "1. заменой критериев ограничениями;\n",
    "2. формированием и сужением множества Парето;\n",
    "3. методом взвешивания и объединения критериев;\n",
    "4. методом анализа иерархий.\n",
    "\n",
    "Необходимо выбрать санаторий:\n",
    "- \"Липецк\", г. Липецк;\n",
    "- \"Сосновый бор\", Тамбовский район;\n",
    "- \"Лесная жемчужина\", г. Котовск;\n",
    "- \"Сосны\", г. Пенза.\n",
    "\n",
    "По следующим признакам:\n",
    "\n",
    "| Признак               | Характеристика |\n",
    "|-----------------------|----------------|\n",
    "| Качество лечения      | самое качественное – в \"Липецке\", <br> чуть хуже – в \"Соснах\", <br> еще хуже – в \"Лесной жемчужине\", <br> самое некачественное – в \"Сосновом бору\".     |\n",
    "| Уровень сервиса       | лучший – в \"Сосновом бору\", <br> немного хуже – в \"Соснах\", <br> существенно хуже – в \"Липецке\" и \"Лесной жемчужине\".  |\n",
    "| Качество питания      | самое качественное – в \"Соснах\", <br> немного хуже – в \"Лесной жемчужине\", <br> существенно хуже – в \"Липецке\" и \"Сосновом бору\".      |\n",
    "| Расстояние до Москвы  | дальше всего – до Пензы, <br> существенно ближе - до Липецка , <br> средне - \"Сосновый бор\" и \"Лесная жемчужина\"  |"
   ]
  },
  {
   "cell_type": "markdown",
   "id": "fdeecc51",
   "metadata": {},
   "source": [
    "### Ход работы\n",
    "\n",
    "Произведем первичную настройку окружения:"
   ]
  },
  {
   "cell_type": "code",
   "execution_count": 1,
   "id": "0b0b971b",
   "metadata": {},
   "outputs": [],
   "source": [
    "import numpy as np\n",
    "import pandas as pd\n",
    "import copy as cp"
   ]
  },
  {
   "cell_type": "markdown",
   "id": "4a66c425",
   "metadata": {},
   "source": [
    "Составляем вектор весов критериев (с нашей точки зрения), используя шкалу 1÷10, нормализуем его:"
   ]
  },
  {
   "cell_type": "code",
   "execution_count": 2,
   "id": "328fdf2c",
   "metadata": {},
   "outputs": [
    {
     "data": {
      "text/html": [
       "<div>\n",
       "<style scoped>\n",
       "    .dataframe tbody tr th:only-of-type {\n",
       "        vertical-align: middle;\n",
       "    }\n",
       "\n",
       "    .dataframe tbody tr th {\n",
       "        vertical-align: top;\n",
       "    }\n",
       "\n",
       "    .dataframe thead th {\n",
       "        text-align: right;\n",
       "    }\n",
       "</style>\n",
       "<table border=\"1\" class=\"dataframe\">\n",
       "  <thead>\n",
       "    <tr style=\"text-align: right;\">\n",
       "      <th></th>\n",
       "      <th>Лечение</th>\n",
       "      <th>Сервис</th>\n",
       "      <th>Питание</th>\n",
       "      <th>Расстояние</th>\n",
       "    </tr>\n",
       "  </thead>\n",
       "  <tbody>\n",
       "    <tr>\n",
       "      <th>Ненорм.</th>\n",
       "      <td>8.00</td>\n",
       "      <td>6.00</td>\n",
       "      <td>5.00</td>\n",
       "      <td>3.00</td>\n",
       "    </tr>\n",
       "    <tr>\n",
       "      <th>Норм.</th>\n",
       "      <td>0.36</td>\n",
       "      <td>0.27</td>\n",
       "      <td>0.23</td>\n",
       "      <td>0.14</td>\n",
       "    </tr>\n",
       "  </tbody>\n",
       "</table>\n",
       "</div>"
      ],
      "text/plain": [
       "         Лечение  Сервис  Питание  Расстояние\n",
       "Ненорм.     8.00    6.00     5.00        3.00\n",
       "Норм.       0.36    0.27     0.23        0.14"
      ]
     },
     "execution_count": 2,
     "metadata": {},
     "output_type": "execute_result"
    }
   ],
   "source": [
    "weights = np.array([8, 6, 5 ,3], dtype=np.int8)\n",
    "weights_norm = weights / np.sum(weights)\n",
    "\n",
    "pd.DataFrame(data=[weights, weights_norm], columns=[\"Лечение\",\"Сервис\",\\\n",
    "                        \"Питание\", \"Расстояние\"], \\\n",
    "                         index=[\"Ненорм.\", \"Норм.\"]).round(2)"
   ]
  },
  {
   "cell_type": "markdown",
   "id": "10109a12",
   "metadata": {},
   "source": [
    "---\n",
    "#### 1) Метод замены критериев ограничениями\n",
    "\n",
    "Составим матрицу A оценок для альтернатив:"
   ]
  },
  {
   "cell_type": "code",
   "execution_count": 3,
   "id": "d9bbf1bb",
   "metadata": {},
   "outputs": [
    {
     "data": {
      "text/html": [
       "<div>\n",
       "<style scoped>\n",
       "    .dataframe tbody tr th:only-of-type {\n",
       "        vertical-align: middle;\n",
       "    }\n",
       "\n",
       "    .dataframe tbody tr th {\n",
       "        vertical-align: top;\n",
       "    }\n",
       "\n",
       "    .dataframe thead th {\n",
       "        text-align: right;\n",
       "    }\n",
       "</style>\n",
       "<table border=\"1\" class=\"dataframe\">\n",
       "  <thead>\n",
       "    <tr style=\"text-align: right;\">\n",
       "      <th></th>\n",
       "      <th>Treatment</th>\n",
       "      <th>Service</th>\n",
       "      <th>Food</th>\n",
       "      <th>Distance</th>\n",
       "    </tr>\n",
       "  </thead>\n",
       "  <tbody>\n",
       "    <tr>\n",
       "      <th>Lipetsk</th>\n",
       "      <td>9.0</td>\n",
       "      <td>5.0</td>\n",
       "      <td>4.0</td>\n",
       "      <td>8.0</td>\n",
       "    </tr>\n",
       "    <tr>\n",
       "      <th>Pinery</th>\n",
       "      <td>4.0</td>\n",
       "      <td>8.0</td>\n",
       "      <td>4.0</td>\n",
       "      <td>5.0</td>\n",
       "    </tr>\n",
       "    <tr>\n",
       "      <th>Forest_pearl</th>\n",
       "      <td>7.0</td>\n",
       "      <td>5.0</td>\n",
       "      <td>7.0</td>\n",
       "      <td>5.0</td>\n",
       "    </tr>\n",
       "    <tr>\n",
       "      <th>Pine_trees</th>\n",
       "      <td>8.0</td>\n",
       "      <td>7.0</td>\n",
       "      <td>8.0</td>\n",
       "      <td>3.0</td>\n",
       "    </tr>\n",
       "  </tbody>\n",
       "</table>\n",
       "</div>"
      ],
      "text/plain": [
       "              Treatment  Service  Food  Distance\n",
       "Lipetsk             9.0      5.0   4.0       8.0\n",
       "Pinery              4.0      8.0   4.0       5.0\n",
       "Forest_pearl        7.0      5.0   7.0       5.0\n",
       "Pine_trees          8.0      7.0   8.0       3.0"
      ]
     },
     "execution_count": 3,
     "metadata": {},
     "output_type": "execute_result"
    }
   ],
   "source": [
    "features = np.array([[9, 5, 4, 8], \\\n",
    "                     [4, 8, 4, 5], \\\n",
    "                     [7, 5, 7, 5], \\\n",
    "                     [8, 7, 8, 3]])\n",
    "columns=[\"Treatment\", \"Service\", \"Food\", \"Distance\"]\n",
    "index=[\"Lipetsk\", \"Pinery\", \"Forest_pearl\", \"Pine_trees\"]\n",
    "df = pd.DataFrame(data=features, columns=columns, index=index, \\\n",
    "                 dtype=np.float16); df"
   ]
  },
  {
   "cell_type": "markdown",
   "id": "04b2ffc5",
   "metadata": {},
   "source": [
    "В качестве главного критерия выберем качество лечения (столбец 1). Установим минимально допустимые уровни для остальных критериев:\n",
    "- Сервис:     $0.5 \\times A_{max2}$\n",
    "- Питание:    $0.4 \\times A_{max3}$\n",
    "- Расстояние: $0.0 \\times A_{max4}$\n",
    "\n",
    "Проведем нормировку матрицы (кроме столбца главного критерия) по\n",
    "формуле: \n",
    "$$ A_{ij} = \\frac{A_{ij} - A_{minj}}{A_{maxj} - A_{minj}} $$"
   ]
  },
  {
   "cell_type": "code",
   "execution_count": 4,
   "id": "eef108a3",
   "metadata": {},
   "outputs": [],
   "source": [
    "def norm (vec, A_max, A_min):\n",
    "    return ((vec - A_min) / \\\n",
    "                (A_max - A_min)).astype(float)"
   ]
  },
  {
   "cell_type": "code",
   "execution_count": 5,
   "id": "22b7e707",
   "metadata": {},
   "outputs": [
    {
     "data": {
      "text/html": [
       "<div>\n",
       "<style scoped>\n",
       "    .dataframe tbody tr th:only-of-type {\n",
       "        vertical-align: middle;\n",
       "    }\n",
       "\n",
       "    .dataframe tbody tr th {\n",
       "        vertical-align: top;\n",
       "    }\n",
       "\n",
       "    .dataframe thead th {\n",
       "        text-align: right;\n",
       "    }\n",
       "</style>\n",
       "<table border=\"1\" class=\"dataframe\">\n",
       "  <thead>\n",
       "    <tr style=\"text-align: right;\">\n",
       "      <th></th>\n",
       "      <th>Treatment</th>\n",
       "      <th>Service</th>\n",
       "      <th>Food</th>\n",
       "      <th>Distance</th>\n",
       "    </tr>\n",
       "  </thead>\n",
       "  <tbody>\n",
       "    <tr>\n",
       "      <th>Lipetsk</th>\n",
       "      <td>9.0</td>\n",
       "      <td>0.00</td>\n",
       "      <td>0.00</td>\n",
       "      <td>1.0</td>\n",
       "    </tr>\n",
       "    <tr>\n",
       "      <th>Pinery</th>\n",
       "      <td>4.0</td>\n",
       "      <td>1.00</td>\n",
       "      <td>0.00</td>\n",
       "      <td>0.4</td>\n",
       "    </tr>\n",
       "    <tr>\n",
       "      <th>Forest_pearl</th>\n",
       "      <td>7.0</td>\n",
       "      <td>0.00</td>\n",
       "      <td>0.75</td>\n",
       "      <td>0.4</td>\n",
       "    </tr>\n",
       "    <tr>\n",
       "      <th>Pine_trees</th>\n",
       "      <td>8.0</td>\n",
       "      <td>0.67</td>\n",
       "      <td>1.00</td>\n",
       "      <td>0.0</td>\n",
       "    </tr>\n",
       "  </tbody>\n",
       "</table>\n",
       "</div>"
      ],
      "text/plain": [
       "              Treatment  Service  Food  Distance\n",
       "Lipetsk             9.0     0.00  0.00       1.0\n",
       "Pinery              4.0     1.00  0.00       0.4\n",
       "Forest_pearl        7.0     0.00  0.75       0.4\n",
       "Pine_trees          8.0     0.67  1.00       0.0"
      ]
     },
     "execution_count": 5,
     "metadata": {},
     "output_type": "execute_result"
    }
   ],
   "source": [
    "main_criteria = 'Treatment'\n",
    "df_norm = cp.deepcopy(df)\n",
    "\n",
    "for col in df_norm:\n",
    "    if col is not main_criteria:\n",
    "        A_max, A_min = df_norm[col].max(), df_norm[col].min()\n",
    "        df_norm[col] = norm(df_norm[col], A_max, A_min)\n",
    "df_norm.round(2)"
   ]
  },
  {
   "cell_type": "code",
   "execution_count": 8,
   "id": "abdec76f",
   "metadata": {},
   "outputs": [
    {
     "data": {
      "text/html": [
       "<div>\n",
       "<style scoped>\n",
       "    .dataframe tbody tr th:only-of-type {\n",
       "        vertical-align: middle;\n",
       "    }\n",
       "\n",
       "    .dataframe tbody tr th {\n",
       "        vertical-align: top;\n",
       "    }\n",
       "\n",
       "    .dataframe thead th {\n",
       "        text-align: right;\n",
       "    }\n",
       "</style>\n",
       "<table border=\"1\" class=\"dataframe\">\n",
       "  <thead>\n",
       "    <tr style=\"text-align: right;\">\n",
       "      <th></th>\n",
       "      <th>Service</th>\n",
       "      <th>Food</th>\n",
       "      <th>Distance</th>\n",
       "    </tr>\n",
       "  </thead>\n",
       "  <tbody>\n",
       "    <tr>\n",
       "      <th>Lipetsk</th>\n",
       "      <td>False</td>\n",
       "      <td>False</td>\n",
       "      <td>True</td>\n",
       "    </tr>\n",
       "    <tr>\n",
       "      <th>Pinery</th>\n",
       "      <td>True</td>\n",
       "      <td>False</td>\n",
       "      <td>True</td>\n",
       "    </tr>\n",
       "    <tr>\n",
       "      <th>Forest_pearl</th>\n",
       "      <td>False</td>\n",
       "      <td>True</td>\n",
       "      <td>True</td>\n",
       "    </tr>\n",
       "    <tr>\n",
       "      <th>Pine_trees</th>\n",
       "      <td>True</td>\n",
       "      <td>True</td>\n",
       "      <td>True</td>\n",
       "    </tr>\n",
       "  </tbody>\n",
       "</table>\n",
       "</div>"
      ],
      "text/plain": [
       "              Service   Food  Distance\n",
       "Lipetsk         False  False      True\n",
       "Pinery           True  False      True\n",
       "Forest_pearl    False   True      True\n",
       "Pine_trees       True   True      True"
      ]
     },
     "execution_count": 8,
     "metadata": {},
     "output_type": "execute_result"
    }
   ],
   "source": [
    "accept_lvl = np.array([0.5, 0.4, 0])\n",
    "df_norm.loc[:, 'Service' : 'Distance'] >= accept_lvl"
   ]
  },
  {
   "cell_type": "markdown",
   "id": "36bfcc2b",
   "metadata": {},
   "source": [
    "При заданных условиях условиях приемлемым является лишь решение \"Сосны\".\n",
    "\n",
    "Примечание: производя нормировку матрицы по формуле, приведенной выше, и не зануляя ни одно из критериев, мы никогда не получим приемлемого решения по причине того, что каждое из приведенных мест является худшим вариантом хотя бы по одному параметру, вследствие чего в каждой строке матрицы появляется хотя бы одно нулевое значение."
   ]
  },
  {
   "cell_type": "markdown",
   "id": "c355c5d6",
   "metadata": {},
   "source": [
    "---\n",
    "#### 2) Формирование и сужение множества Парето\n",
    "\n",
    "Настройка окружения"
   ]
  },
  {
   "cell_type": "code",
   "execution_count": 9,
   "id": "badf747f",
   "metadata": {},
   "outputs": [],
   "source": [
    "import matplotlib.pyplot as plt\n",
    "%matplotlib inline"
   ]
  },
  {
   "cell_type": "markdown",
   "id": "ee9b3353",
   "metadata": {},
   "source": [
    "Выберем в качестве главных критериев для данного метода качество лечения и уровень сервиса - по оси x и по оси y соответственно. Сформируем множество Парето графическим методом. Оба критерия максимизируются, поэтому точка утопии находится в правом верхнем углу графика"
   ]
  },
  {
   "cell_type": "code",
   "execution_count": 10,
   "id": "fe439a63",
   "metadata": {
    "scrolled": true
   },
   "outputs": [
    {
     "data": {
      "image/png": "[encoded data removed]",
      "text/plain": [
       "<Figure size 432x288 with 1 Axes>"
      ]
     },
     "metadata": {
      "needs_background": "light"
     },
     "output_type": "display_data"
    }
   ],
   "source": [
    "df_loc = df.loc[:, 'Treatment' : 'Service']\n",
    "utopia_point = np.array([9, 8])\n",
    "x_val = np.append(df_loc.values[:, 0], utopia_point[0])\n",
    "y_val = np.append(df_loc.values[:, 1], utopia_point[1])\n",
    "annot = df_loc.index.append(pd.Index(['Utopia_point']))\n",
    "\n",
    "plt.grid()\n",
    "plt.plot('Treatment', 'Service', data=df.sort_values('Treatment'))\n",
    "plt.xlabel('Treatment')\n",
    "plt.ylabel('Service')\n",
    "\n",
    "plt.scatter(x_val, y_val, color='green')\n",
    "for i, label in enumerate(annot):\n",
    "    plt.annotate(label, (x_val[i], y_val[i]))"
   ]
  },
  {
   "cell_type": "code",
   "execution_count": 16,
   "id": "b28ddcc2",
   "metadata": {},
   "outputs": [
    {
     "name": "stdout",
     "output_type": "stream",
     "text": [
      "The best point is Pine_trees\n",
      "It's distance from utopia point is 2.0\n"
     ]
    }
   ],
   "source": [
    "def manhattan_distances(x_1, x_2):\n",
    "    if not isinstance(x_1, np.ndarray) or \\\n",
    "                not isinstance(x_2, np.ndarray):\n",
    "        raise TypeError\n",
    "        \n",
    "    return np.sum(np.absolute(x_2 - x_1))\n",
    "\n",
    "min_distance, best_point = np.inf, ''\n",
    "for i, point in enumerate(df_loc.values):\n",
    "    dist = manhattan_distances(point, utopia_point)\n",
    "    if dist < min_distance:\n",
    "        min_distance = dist\n",
    "        best_point = annot[i]\n",
    "        \n",
    "print(\"The best point is\", best_point)\n",
    "print(\"It's distance from utopia point is\", min_distance)"
   ]
  },
  {
   "cell_type": "markdown",
   "id": "cb806f14",
   "metadata": {},
   "source": [
    "Таким образом, Манхэттенское расстояние до точки утопии минимально для санатория \"Сосны\". А значит, эта альтернатива оптимальна"
   ]
  },
  {
   "cell_type": "markdown",
   "id": "038f3111",
   "metadata": {},
   "source": [
    "---\n",
    "#### 3) Взвешивание и объединение критериев"
   ]
  },
  {
   "cell_type": "markdown",
   "id": "b2a1db8f",
   "metadata": {},
   "source": [
    "Воспользуемся матрицой рейтингов альтернатив, которая была составлена ранее"
   ]
  },
  {
   "cell_type": "code",
   "execution_count": 31,
   "id": "4b99fbf4",
   "metadata": {},
   "outputs": [
    {
     "data": {
      "text/html": [
       "<div>\n",
       "<style scoped>\n",
       "    .dataframe tbody tr th:only-of-type {\n",
       "        vertical-align: middle;\n",
       "    }\n",
       "\n",
       "    .dataframe tbody tr th {\n",
       "        vertical-align: top;\n",
       "    }\n",
       "\n",
       "    .dataframe thead th {\n",
       "        text-align: right;\n",
       "    }\n",
       "</style>\n",
       "<table border=\"1\" class=\"dataframe\">\n",
       "  <thead>\n",
       "    <tr style=\"text-align: right;\">\n",
       "      <th></th>\n",
       "      <th>Treatment</th>\n",
       "      <th>Service</th>\n",
       "      <th>Food</th>\n",
       "      <th>Distance</th>\n",
       "    </tr>\n",
       "  </thead>\n",
       "  <tbody>\n",
       "    <tr>\n",
       "      <th>Lipetsk</th>\n",
       "      <td>9.0</td>\n",
       "      <td>5.0</td>\n",
       "      <td>4.0</td>\n",
       "      <td>8.0</td>\n",
       "    </tr>\n",
       "    <tr>\n",
       "      <th>Pinery</th>\n",
       "      <td>4.0</td>\n",
       "      <td>8.0</td>\n",
       "      <td>4.0</td>\n",
       "      <td>5.0</td>\n",
       "    </tr>\n",
       "    <tr>\n",
       "      <th>Forest_pearl</th>\n",
       "      <td>7.0</td>\n",
       "      <td>5.0</td>\n",
       "      <td>7.0</td>\n",
       "      <td>5.0</td>\n",
       "    </tr>\n",
       "    <tr>\n",
       "      <th>Pine_trees</th>\n",
       "      <td>8.0</td>\n",
       "      <td>7.0</td>\n",
       "      <td>8.0</td>\n",
       "      <td>3.0</td>\n",
       "    </tr>\n",
       "  </tbody>\n",
       "</table>\n",
       "</div>"
      ],
      "text/plain": [
       "              Treatment  Service  Food  Distance\n",
       "Lipetsk             9.0      5.0   4.0       8.0\n",
       "Pinery              4.0      8.0   4.0       5.0\n",
       "Forest_pearl        7.0      5.0   7.0       5.0\n",
       "Pine_trees          8.0      7.0   8.0       3.0"
      ]
     },
     "execution_count": 31,
     "metadata": {},
     "output_type": "execute_result"
    }
   ],
   "source": [
    "df"
   ]
  },
  {
   "cell_type": "markdown",
   "id": "b7988ea8",
   "metadata": {},
   "source": [
    "Нормулизуем ее:"
   ]
  },
  {
   "cell_type": "code",
   "execution_count": 45,
   "id": "4527a66c",
   "metadata": {},
   "outputs": [
    {
     "data": {
      "text/html": [
       "<div>\n",
       "<style scoped>\n",
       "    .dataframe tbody tr th:only-of-type {\n",
       "        vertical-align: middle;\n",
       "    }\n",
       "\n",
       "    .dataframe tbody tr th {\n",
       "        vertical-align: top;\n",
       "    }\n",
       "\n",
       "    .dataframe thead th {\n",
       "        text-align: right;\n",
       "    }\n",
       "</style>\n",
       "<table border=\"1\" class=\"dataframe\">\n",
       "  <thead>\n",
       "    <tr style=\"text-align: right;\">\n",
       "      <th></th>\n",
       "      <th>Treatment</th>\n",
       "      <th>Service</th>\n",
       "      <th>Food</th>\n",
       "      <th>Distance</th>\n",
       "    </tr>\n",
       "  </thead>\n",
       "  <tbody>\n",
       "    <tr>\n",
       "      <th>Lipetsk</th>\n",
       "      <td>0.32</td>\n",
       "      <td>0.20</td>\n",
       "      <td>0.17</td>\n",
       "      <td>0.38</td>\n",
       "    </tr>\n",
       "    <tr>\n",
       "      <th>Pinery</th>\n",
       "      <td>0.14</td>\n",
       "      <td>0.32</td>\n",
       "      <td>0.17</td>\n",
       "      <td>0.24</td>\n",
       "    </tr>\n",
       "    <tr>\n",
       "      <th>Forest_pearl</th>\n",
       "      <td>0.25</td>\n",
       "      <td>0.20</td>\n",
       "      <td>0.30</td>\n",
       "      <td>0.24</td>\n",
       "    </tr>\n",
       "    <tr>\n",
       "      <th>Pine_trees</th>\n",
       "      <td>0.29</td>\n",
       "      <td>0.28</td>\n",
       "      <td>0.35</td>\n",
       "      <td>0.14</td>\n",
       "    </tr>\n",
       "  </tbody>\n",
       "</table>\n",
       "</div>"
      ],
      "text/plain": [
       "              Treatment  Service  Food  Distance\n",
       "Lipetsk            0.32     0.20  0.17      0.38\n",
       "Pinery             0.14     0.32  0.17      0.24\n",
       "Forest_pearl       0.25     0.20  0.30      0.24\n",
       "Pine_trees         0.29     0.28  0.35      0.14"
      ]
     },
     "execution_count": 45,
     "metadata": {},
     "output_type": "execute_result"
    }
   ],
   "source": [
    "df_full_norm = (df / df.sum()).astype(float)\n",
    "df_full_norm.round(2)"
   ]
  },
  {
   "cell_type": "markdown",
   "id": "627e8261",
   "metadata": {},
   "source": [
    "Составим экспертную оценку критериев по методу попарного сравнения:\n",
    "$$ f_{i} > f_{j} \\Rightarrow \\text{цель i важнее цели j}$$\n",
    "$$ \\gamma_{ij} = \n",
    "\\begin{cases}\n",
    "1, & \\quad f_{i} > f_{j} \\\\\n",
    "0, & \\quad f_{i} < f_{j} \\\\ \n",
    "0.5, & \\quad f_{i} \\approx f{j} \\\\\n",
    "\\end{cases}\n",
    "$$"
   ]
  },
  {
   "cell_type": "code",
   "execution_count": 65,
   "id": "c87bc90f",
   "metadata": {},
   "outputs": [
    {
     "data": {
      "text/html": [
       "<div>\n",
       "<style scoped>\n",
       "    .dataframe tbody tr th:only-of-type {\n",
       "        vertical-align: middle;\n",
       "    }\n",
       "\n",
       "    .dataframe tbody tr th {\n",
       "        vertical-align: top;\n",
       "    }\n",
       "\n",
       "    .dataframe thead th {\n",
       "        text-align: right;\n",
       "    }\n",
       "</style>\n",
       "<table border=\"1\" class=\"dataframe\">\n",
       "  <thead>\n",
       "    <tr style=\"text-align: right;\">\n",
       "      <th></th>\n",
       "      <th>Treatment</th>\n",
       "      <th>Service</th>\n",
       "      <th>Food</th>\n",
       "      <th>Distance</th>\n",
       "    </tr>\n",
       "  </thead>\n",
       "  <tbody>\n",
       "    <tr>\n",
       "      <th>Treatment</th>\n",
       "      <td>0.0</td>\n",
       "      <td>1.0</td>\n",
       "      <td>1.0</td>\n",
       "      <td>1.0</td>\n",
       "    </tr>\n",
       "    <tr>\n",
       "      <th>Service</th>\n",
       "      <td>0.0</td>\n",
       "      <td>0.0</td>\n",
       "      <td>0.5</td>\n",
       "      <td>1.0</td>\n",
       "    </tr>\n",
       "    <tr>\n",
       "      <th>Food</th>\n",
       "      <td>0.0</td>\n",
       "      <td>0.5</td>\n",
       "      <td>0.0</td>\n",
       "      <td>1.0</td>\n",
       "    </tr>\n",
       "    <tr>\n",
       "      <th>Distance</th>\n",
       "      <td>0.0</td>\n",
       "      <td>0.0</td>\n",
       "      <td>0.0</td>\n",
       "      <td>0.0</td>\n",
       "    </tr>\n",
       "  </tbody>\n",
       "</table>\n",
       "</div>"
      ],
      "text/plain": [
       "           Treatment  Service  Food  Distance\n",
       "Treatment        0.0      1.0   1.0       1.0\n",
       "Service          0.0      0.0   0.5       1.0\n",
       "Food             0.0      0.5   0.0       1.0\n",
       "Distance         0.0      0.0   0.0       0.0"
      ]
     },
     "execution_count": 65,
     "metadata": {},
     "output_type": "execute_result"
    }
   ],
   "source": [
    "eval_crit = np.triu(np.logical_not(np.eye(4, 4)).astype(float))\n",
    "eval_crit[1, 2] = eval_crit[2, 1] = 0.5\n",
    "pd.DataFrame(data=eval_crit, columns=columns, index=columns)"
   ]
  },
  {
   "cell_type": "markdown",
   "id": "9e2f283d",
   "metadata": {},
   "source": [
    "Получим вектор весов критериев:"
   ]
  },
  {
   "cell_type": "code",
   "execution_count": 67,
   "id": "08dcfdd6",
   "metadata": {},
   "outputs": [
    {
     "data": {
      "text/html": [
       "<div>\n",
       "<style scoped>\n",
       "    .dataframe tbody tr th:only-of-type {\n",
       "        vertical-align: middle;\n",
       "    }\n",
       "\n",
       "    .dataframe tbody tr th {\n",
       "        vertical-align: top;\n",
       "    }\n",
       "\n",
       "    .dataframe thead th {\n",
       "        text-align: right;\n",
       "    }\n",
       "</style>\n",
       "<table border=\"1\" class=\"dataframe\">\n",
       "  <thead>\n",
       "    <tr style=\"text-align: right;\">\n",
       "      <th></th>\n",
       "      <th>Treatment</th>\n",
       "      <th>Service</th>\n",
       "      <th>Food</th>\n",
       "      <th>Distance</th>\n",
       "    </tr>\n",
       "  </thead>\n",
       "  <tbody>\n",
       "    <tr>\n",
       "      <th>Alpha</th>\n",
       "      <td>3.0</td>\n",
       "      <td>1.50</td>\n",
       "      <td>1.50</td>\n",
       "      <td>0.0</td>\n",
       "    </tr>\n",
       "    <tr>\n",
       "      <th>Alpha norm</th>\n",
       "      <td>0.5</td>\n",
       "      <td>0.25</td>\n",
       "      <td>0.25</td>\n",
       "      <td>0.0</td>\n",
       "    </tr>\n",
       "  </tbody>\n",
       "</table>\n",
       "</div>"
      ],
      "text/plain": [
       "            Treatment  Service  Food  Distance\n",
       "Alpha             3.0     1.50  1.50       0.0\n",
       "Alpha norm        0.5     0.25  0.25       0.0"
      ]
     },
     "execution_count": 67,
     "metadata": {},
     "output_type": "execute_result"
    }
   ],
   "source": [
    "alpha = eval_crit.sum(axis=1)\n",
    "alpha_norm = alpha / alpha.sum()\n",
    "pd.DataFrame(data=[alpha, alpha_norm], columns=columns, \\\n",
    "            index=['Alpha', 'Alpha norm']).round(2)"
   ]
  },
  {
   "cell_type": "markdown",
   "id": "d4d319a8",
   "metadata": {},
   "source": [
    "Умножим нормализованную матрицу на нормализованный вектор весов\n",
    "критериев и получим значения объединенного критерия для всех\n",
    "альтернатив:"
   ]
  },
  {
   "cell_type": "code",
   "execution_count": 74,
   "id": "3af08117",
   "metadata": {},
   "outputs": [
    {
     "data": {
      "text/plain": [
       "array([[0.25],\n",
       "       [0.19],\n",
       "       [0.25],\n",
       "       [0.3 ]])"
      ]
     },
     "execution_count": 74,
     "metadata": {},
     "output_type": "execute_result"
    }
   ],
   "source": [
    "np.matmul(df_full_norm.values, alpha_norm.reshape(-1, 1)).round(2)"
   ]
  },
  {
   "cell_type": "markdown",
   "id": "4ec205d2",
   "metadata": {},
   "source": [
    "Как видно из полученной интегральной оценки, наиболее приемлемой\n",
    "является альтернатива \"Сосны\""
   ]
  },
  {
   "cell_type": "markdown",
   "id": "ff5379a0",
   "metadata": {},
   "source": [
    "---\n",
    "#### 4) Метод анализа иерархий"
   ]
  },
  {
   "cell_type": "markdown",
   "id": "49053ddd",
   "metadata": {},
   "source": [
    "Попарное сравнение критериев по важности по девятибалльной шкале с составлением соответствующей матрицы (таблицы) размера (n х n). Система парных сведений приводит к результату, который может быть представлен в виде обратно симметричной матрицы. Элементом матрицы a(i,j) является интенсивность проявления элемента иерархии i относительно элемента иерархии j, оцениваемая по шкале интенсивности от 1 до 9, где оценки имеют следующий смысл:\n",
    "\n",
    "- равная важность – 1;\n",
    "- умеренное превосходство – 3;\n",
    "- значительное превосходство – 5;\n",
    "- сильное превосходство – 7;\n",
    "- очень сильное превосходство – 9;\n",
    "- в промежуточных случаях ставятся четные оценки: 2, 4, 6, 8 \n",
    "\n",
    "Для каждого из критериев составим и нормализуем матрицу попарного сравнения альтернатив.\n",
    "\n",
    "**Качество лечения:**"
   ]
  },
  {
   "cell_type": "code",
   "execution_count": 136,
   "id": "25447d10",
   "metadata": {},
   "outputs": [],
   "source": [
    "def get_df(value, index=index):\n",
    "    df = pd.DataFrame(data=value, columns=index, \\\n",
    "                        index=index).astype(float)\n",
    "    df['Sum'] = df.sum(axis=1)\n",
    "    df['Norm_sum'] = df.Sum / df.Sum.sum()\n",
    "    return df"
   ]
  },
  {
   "cell_type": "code",
   "execution_count": 137,
   "id": "23d3071d",
   "metadata": {},
   "outputs": [
    {
     "data": {
      "text/html": [
       "<div>\n",
       "<style scoped>\n",
       "    .dataframe tbody tr th:only-of-type {\n",
       "        vertical-align: middle;\n",
       "    }\n",
       "\n",
       "    .dataframe tbody tr th {\n",
       "        vertical-align: top;\n",
       "    }\n",
       "\n",
       "    .dataframe thead th {\n",
       "        text-align: right;\n",
       "    }\n",
       "</style>\n",
       "<table border=\"1\" class=\"dataframe\">\n",
       "  <thead>\n",
       "    <tr style=\"text-align: right;\">\n",
       "      <th></th>\n",
       "      <th>Lipetsk</th>\n",
       "      <th>Pinery</th>\n",
       "      <th>Forest_pearl</th>\n",
       "      <th>Pine_trees</th>\n",
       "      <th>Sum</th>\n",
       "      <th>Norm_sum</th>\n",
       "    </tr>\n",
       "  </thead>\n",
       "  <tbody>\n",
       "    <tr>\n",
       "      <th>Lipetsk</th>\n",
       "      <td>1.00</td>\n",
       "      <td>7.0</td>\n",
       "      <td>5.00</td>\n",
       "      <td>2.00</td>\n",
       "      <td>15.00</td>\n",
       "      <td>0.49</td>\n",
       "    </tr>\n",
       "    <tr>\n",
       "      <th>Pinery</th>\n",
       "      <td>0.14</td>\n",
       "      <td>1.0</td>\n",
       "      <td>0.33</td>\n",
       "      <td>0.20</td>\n",
       "      <td>1.68</td>\n",
       "      <td>0.05</td>\n",
       "    </tr>\n",
       "    <tr>\n",
       "      <th>Forest_pearl</th>\n",
       "      <td>0.20</td>\n",
       "      <td>3.0</td>\n",
       "      <td>1.00</td>\n",
       "      <td>0.33</td>\n",
       "      <td>4.53</td>\n",
       "      <td>0.15</td>\n",
       "    </tr>\n",
       "    <tr>\n",
       "      <th>Pine_trees</th>\n",
       "      <td>0.50</td>\n",
       "      <td>5.0</td>\n",
       "      <td>3.00</td>\n",
       "      <td>1.00</td>\n",
       "      <td>9.50</td>\n",
       "      <td>0.31</td>\n",
       "    </tr>\n",
       "  </tbody>\n",
       "</table>\n",
       "</div>"
      ],
      "text/plain": [
       "              Lipetsk  Pinery  Forest_pearl  Pine_trees    Sum  Norm_sum\n",
       "Lipetsk          1.00     7.0          5.00        2.00  15.00      0.49\n",
       "Pinery           0.14     1.0          0.33        0.20   1.68      0.05\n",
       "Forest_pearl     0.20     3.0          1.00        0.33   4.53      0.15\n",
       "Pine_trees       0.50     5.0          3.00        1.00   9.50      0.31"
      ]
     },
     "execution_count": 137,
     "metadata": {},
     "output_type": "execute_result"
    }
   ],
   "source": [
    "treatm = [[1, 7, 5, 2],\n",
    "         [1/7, 1, 1/3, 1/5],\n",
    "         [1/5, 3, 1, 1/3],\n",
    "         [1/2, 5, 3, 1]]\n",
    "\n",
    "treat_df = get_df(treatm)\n",
    "treat_df.round(2)"
   ]
  },
  {
   "cell_type": "markdown",
   "id": "852388a5",
   "metadata": {},
   "source": [
    "В качестве локального вектора приоритетов будем использовать нормированную сумму по строкам (последний столбец), т. к. это менее затратная для процессора операция, нежели нормированное среднее геометрическое\n",
    "\n",
    "Индекс согласованности локальных приоритетов вычисляется по формуле:\n",
    "\n",
    "$$ ИС = \\dfrac{\\lambda_{max} - n}{n - 1}, $$\n",
    "\n",
    "где $n$ – размерность матрицы, а $\\lambda_{max}$ вычисляется следующим образом:  \n",
    "- суммируется каждый столбец матрицы парных сравнений; \n",
    "- сумма  первого  столбца  умножается  на  первую компоненту локального вектора приоритетов, сумма второго столбца на вторую компоненту  и т. д.;  \n",
    "- полученные произведения суммируются. \n",
    "\n",
    "Отношение согласованности находим по формуле:\n",
    "\n",
    "$$ ОС = \\dfrac{ИС}{СС}, $$\n",
    "\n",
    "где значение $СС$ (случайная согласованность) зависит только от размерности матрицы парных сравнений. И определяется по таблице:\n",
    "\n",
    "| Размерность <br>таблицы | 1 | 2 | 3 | 4 | 5 | 6 | 7 | 8 | 9 | 10 |\n",
    "|-------|------|-------|-------|-------|-------|-------|-------|-------|-------|-------|\n",
    "| Случайная <br>согласованность | 0 | 0 | 0,58 | 0,9 | 1,12 | 1,24 | 1,32 | 1,41 | 1,45 | 1,49 |\n",
    "\n",
    "<br>\n",
    "В нашем случае $СС$ равно $0,9$\n",
    "\n",
    "Если  для  конкретной  матрицы  окажется,  что  $ОС  >  0,1$,  то  можно  утверждать,  что суждения  эксперта,  на  основе  которых  заполнена  исследуемая  матрица,  сильно рассогласованы, и ему надлежит заполнить матрицу заново, более внимательно используя при этом шкалу парных сравнений. "
   ]
  },
  {
   "cell_type": "code",
   "execution_count": 138,
   "id": "ae8bd91e",
   "metadata": {},
   "outputs": [],
   "source": [
    "def get_consist_relat(df):\n",
    "    col_sum = df.sum()\n",
    "    del col_sum['Sum'], col_sum['Norm_sum']\n",
    "    \n",
    "    lamda = (col_sum * df['Norm_sum']).sum()\n",
    "    return (lamda - 4) / (3 * 0.9)"
   ]
  },
  {
   "cell_type": "code",
   "execution_count": 139,
   "id": "951821cc",
   "metadata": {},
   "outputs": [
    {
     "name": "stdout",
     "output_type": "stream",
     "text": [
      "Отношение согласованности для качества лечения: 0.09\n"
     ]
    }
   ],
   "source": [
    "print(\"Отношение согласованности для качества лечения:\", \\\n",
    "      get_consist_relat(treat_df).round(3))"
   ]
  },
  {
   "cell_type": "markdown",
   "id": "f8f15d14",
   "metadata": {},
   "source": [
    "**Уровень сервиса:**"
   ]
  },
  {
   "cell_type": "code",
   "execution_count": 140,
   "id": "3e65aaac",
   "metadata": {},
   "outputs": [
    {
     "data": {
      "text/html": [
       "<div>\n",
       "<style scoped>\n",
       "    .dataframe tbody tr th:only-of-type {\n",
       "        vertical-align: middle;\n",
       "    }\n",
       "\n",
       "    .dataframe tbody tr th {\n",
       "        vertical-align: top;\n",
       "    }\n",
       "\n",
       "    .dataframe thead th {\n",
       "        text-align: right;\n",
       "    }\n",
       "</style>\n",
       "<table border=\"1\" class=\"dataframe\">\n",
       "  <thead>\n",
       "    <tr style=\"text-align: right;\">\n",
       "      <th></th>\n",
       "      <th>Lipetsk</th>\n",
       "      <th>Pinery</th>\n",
       "      <th>Forest_pearl</th>\n",
       "      <th>Pine_trees</th>\n",
       "      <th>Sum</th>\n",
       "      <th>Norm_sum</th>\n",
       "    </tr>\n",
       "  </thead>\n",
       "  <tbody>\n",
       "    <tr>\n",
       "      <th>Lipetsk</th>\n",
       "      <td>1.0</td>\n",
       "      <td>0.20</td>\n",
       "      <td>1.0</td>\n",
       "      <td>0.33</td>\n",
       "      <td>2.53</td>\n",
       "      <td>0.10</td>\n",
       "    </tr>\n",
       "    <tr>\n",
       "      <th>Pinery</th>\n",
       "      <td>5.0</td>\n",
       "      <td>1.00</td>\n",
       "      <td>5.0</td>\n",
       "      <td>3.00</td>\n",
       "      <td>14.00</td>\n",
       "      <td>0.53</td>\n",
       "    </tr>\n",
       "    <tr>\n",
       "      <th>Forest_pearl</th>\n",
       "      <td>1.0</td>\n",
       "      <td>0.20</td>\n",
       "      <td>1.0</td>\n",
       "      <td>0.33</td>\n",
       "      <td>2.53</td>\n",
       "      <td>0.10</td>\n",
       "    </tr>\n",
       "    <tr>\n",
       "      <th>Pine_trees</th>\n",
       "      <td>3.0</td>\n",
       "      <td>0.33</td>\n",
       "      <td>3.0</td>\n",
       "      <td>1.00</td>\n",
       "      <td>7.33</td>\n",
       "      <td>0.28</td>\n",
       "    </tr>\n",
       "  </tbody>\n",
       "</table>\n",
       "</div>"
      ],
      "text/plain": [
       "              Lipetsk  Pinery  Forest_pearl  Pine_trees    Sum  Norm_sum\n",
       "Lipetsk           1.0    0.20           1.0        0.33   2.53      0.10\n",
       "Pinery            5.0    1.00           5.0        3.00  14.00      0.53\n",
       "Forest_pearl      1.0    0.20           1.0        0.33   2.53      0.10\n",
       "Pine_trees        3.0    0.33           3.0        1.00   7.33      0.28"
      ]
     },
     "execution_count": 140,
     "metadata": {},
     "output_type": "execute_result"
    }
   ],
   "source": [
    "service = [[1, 1/5, 1, 1/3],\n",
    "          [5, 1, 5, 3],\n",
    "          [1, 1/5, 1, 1/3],\n",
    "          [3, 1/3, 3, 1]]\n",
    "service_df = get_df(service)\n",
    "service_df.round(2)"
   ]
  },
  {
   "cell_type": "code",
   "execution_count": 141,
   "id": "7e81bc76",
   "metadata": {
    "scrolled": true
   },
   "outputs": [
    {
     "name": "stdout",
     "output_type": "stream",
     "text": [
      "Отношение согласованности для уровня сервиса: 0.05\n"
     ]
    }
   ],
   "source": [
    "print(\"Отношение согласованности для уровня сервиса:\", \\\n",
    "      get_consist_relat(service_df).round(3))"
   ]
  },
  {
   "cell_type": "markdown",
   "id": "355f469e",
   "metadata": {},
   "source": [
    "**Качество питания:**"
   ]
  },
  {
   "cell_type": "code",
   "execution_count": 142,
   "id": "27d9b8cd",
   "metadata": {},
   "outputs": [
    {
     "data": {
      "text/html": [
       "<div>\n",
       "<style scoped>\n",
       "    .dataframe tbody tr th:only-of-type {\n",
       "        vertical-align: middle;\n",
       "    }\n",
       "\n",
       "    .dataframe tbody tr th {\n",
       "        vertical-align: top;\n",
       "    }\n",
       "\n",
       "    .dataframe thead th {\n",
       "        text-align: right;\n",
       "    }\n",
       "</style>\n",
       "<table border=\"1\" class=\"dataframe\">\n",
       "  <thead>\n",
       "    <tr style=\"text-align: right;\">\n",
       "      <th></th>\n",
       "      <th>Lipetsk</th>\n",
       "      <th>Pinery</th>\n",
       "      <th>Forest_pearl</th>\n",
       "      <th>Pine_trees</th>\n",
       "      <th>Sum</th>\n",
       "      <th>Norm_sum</th>\n",
       "    </tr>\n",
       "  </thead>\n",
       "  <tbody>\n",
       "    <tr>\n",
       "      <th>Lipetsk</th>\n",
       "      <td>1.0</td>\n",
       "      <td>1.0</td>\n",
       "      <td>0.33</td>\n",
       "      <td>0.20</td>\n",
       "      <td>2.53</td>\n",
       "      <td>0.10</td>\n",
       "    </tr>\n",
       "    <tr>\n",
       "      <th>Pinery</th>\n",
       "      <td>1.0</td>\n",
       "      <td>1.0</td>\n",
       "      <td>0.33</td>\n",
       "      <td>0.20</td>\n",
       "      <td>2.53</td>\n",
       "      <td>0.10</td>\n",
       "    </tr>\n",
       "    <tr>\n",
       "      <th>Forest_pearl</th>\n",
       "      <td>3.0</td>\n",
       "      <td>3.0</td>\n",
       "      <td>1.00</td>\n",
       "      <td>0.33</td>\n",
       "      <td>7.33</td>\n",
       "      <td>0.28</td>\n",
       "    </tr>\n",
       "    <tr>\n",
       "      <th>Pine_trees</th>\n",
       "      <td>5.0</td>\n",
       "      <td>5.0</td>\n",
       "      <td>3.00</td>\n",
       "      <td>1.00</td>\n",
       "      <td>14.00</td>\n",
       "      <td>0.53</td>\n",
       "    </tr>\n",
       "  </tbody>\n",
       "</table>\n",
       "</div>"
      ],
      "text/plain": [
       "              Lipetsk  Pinery  Forest_pearl  Pine_trees    Sum  Norm_sum\n",
       "Lipetsk           1.0     1.0          0.33        0.20   2.53      0.10\n",
       "Pinery            1.0     1.0          0.33        0.20   2.53      0.10\n",
       "Forest_pearl      3.0     3.0          1.00        0.33   7.33      0.28\n",
       "Pine_trees        5.0     5.0          3.00        1.00  14.00      0.53"
      ]
     },
     "execution_count": 142,
     "metadata": {},
     "output_type": "execute_result"
    }
   ],
   "source": [
    "food = [[1, 1, 1/3, 1/5],\n",
    "       [1, 1, 1/3, 1/5], \n",
    "       [3, 3, 1, 1/3],\n",
    "       [5,  5, 3, 1]]\n",
    "food_df = get_df(food)\n",
    "food_df.round(2)"
   ]
  },
  {
   "cell_type": "code",
   "execution_count": 144,
   "id": "7fcb98a3",
   "metadata": {
    "scrolled": true
   },
   "outputs": [
    {
     "name": "stdout",
     "output_type": "stream",
     "text": [
      "Отношение согласованности для качества питания: 0.05\n"
     ]
    }
   ],
   "source": [
    "print(\"Отношение согласованности для качества питания:\", \\\n",
    "      get_consist_relat(food_df).round(3))"
   ]
  },
  {
   "cell_type": "markdown",
   "id": "fe7854fd",
   "metadata": {},
   "source": [
    "**Рассстояние до Москвы:**"
   ]
  },
  {
   "cell_type": "code",
   "execution_count": 145,
   "id": "3a80b15b",
   "metadata": {},
   "outputs": [
    {
     "data": {
      "text/html": [
       "<div>\n",
       "<style scoped>\n",
       "    .dataframe tbody tr th:only-of-type {\n",
       "        vertical-align: middle;\n",
       "    }\n",
       "\n",
       "    .dataframe tbody tr th {\n",
       "        vertical-align: top;\n",
       "    }\n",
       "\n",
       "    .dataframe thead th {\n",
       "        text-align: right;\n",
       "    }\n",
       "</style>\n",
       "<table border=\"1\" class=\"dataframe\">\n",
       "  <thead>\n",
       "    <tr style=\"text-align: right;\">\n",
       "      <th></th>\n",
       "      <th>Lipetsk</th>\n",
       "      <th>Pinery</th>\n",
       "      <th>Forest_pearl</th>\n",
       "      <th>Pine_trees</th>\n",
       "      <th>Sum</th>\n",
       "      <th>Norm_sum</th>\n",
       "    </tr>\n",
       "  </thead>\n",
       "  <tbody>\n",
       "    <tr>\n",
       "      <th>Lipetsk</th>\n",
       "      <td>1.00</td>\n",
       "      <td>5.00</td>\n",
       "      <td>5.00</td>\n",
       "      <td>8.0</td>\n",
       "      <td>19.00</td>\n",
       "      <td>0.61</td>\n",
       "    </tr>\n",
       "    <tr>\n",
       "      <th>Pinery</th>\n",
       "      <td>0.20</td>\n",
       "      <td>1.00</td>\n",
       "      <td>1.00</td>\n",
       "      <td>3.0</td>\n",
       "      <td>5.20</td>\n",
       "      <td>0.17</td>\n",
       "    </tr>\n",
       "    <tr>\n",
       "      <th>Forest_pearl</th>\n",
       "      <td>0.20</td>\n",
       "      <td>1.00</td>\n",
       "      <td>1.00</td>\n",
       "      <td>3.0</td>\n",
       "      <td>5.20</td>\n",
       "      <td>0.17</td>\n",
       "    </tr>\n",
       "    <tr>\n",
       "      <th>Pine_trees</th>\n",
       "      <td>0.12</td>\n",
       "      <td>0.33</td>\n",
       "      <td>0.33</td>\n",
       "      <td>1.0</td>\n",
       "      <td>1.79</td>\n",
       "      <td>0.06</td>\n",
       "    </tr>\n",
       "  </tbody>\n",
       "</table>\n",
       "</div>"
      ],
      "text/plain": [
       "              Lipetsk  Pinery  Forest_pearl  Pine_trees    Sum  Norm_sum\n",
       "Lipetsk          1.00    5.00          5.00         8.0  19.00      0.61\n",
       "Pinery           0.20    1.00          1.00         3.0   5.20      0.17\n",
       "Forest_pearl     0.20    1.00          1.00         3.0   5.20      0.17\n",
       "Pine_trees       0.12    0.33          0.33         1.0   1.79      0.06"
      ]
     },
     "execution_count": 145,
     "metadata": {},
     "output_type": "execute_result"
    }
   ],
   "source": [
    "dist = [[1, 5, 5, 8], \n",
    "       [1/5, 1, 1, 3],\n",
    "       [1/5, 1, 1, 3],\n",
    "       [1/8, 1/3, 1/3, 1]]\n",
    "dist_df = get_df(dist)\n",
    "dist_df.round(2)"
   ]
  },
  {
   "cell_type": "code",
   "execution_count": 146,
   "id": "34077c6a",
   "metadata": {},
   "outputs": [
    {
     "name": "stdout",
     "output_type": "stream",
     "text": [
      "Отношение согласованности для расстояния: 0.087\n"
     ]
    }
   ],
   "source": [
    "print(\"Отношение согласованности для расстояния:\", \\\n",
    "      get_consist_relat(dist_df).round(3))"
   ]
  },
  {
   "cell_type": "markdown",
   "id": "2d77e542",
   "metadata": {},
   "source": [
    "Проведем оценку приоритетов критериев:"
   ]
  },
  {
   "cell_type": "code",
   "execution_count": 196,
   "id": "59512140",
   "metadata": {},
   "outputs": [
    {
     "data": {
      "text/html": [
       "<div>\n",
       "<style scoped>\n",
       "    .dataframe tbody tr th:only-of-type {\n",
       "        vertical-align: middle;\n",
       "    }\n",
       "\n",
       "    .dataframe tbody tr th {\n",
       "        vertical-align: top;\n",
       "    }\n",
       "\n",
       "    .dataframe thead th {\n",
       "        text-align: right;\n",
       "    }\n",
       "</style>\n",
       "<table border=\"1\" class=\"dataframe\">\n",
       "  <thead>\n",
       "    <tr style=\"text-align: right;\">\n",
       "      <th></th>\n",
       "      <th>Treatment</th>\n",
       "      <th>Service</th>\n",
       "      <th>Food</th>\n",
       "      <th>Distance</th>\n",
       "      <th>Sum</th>\n",
       "      <th>Norm_sum</th>\n",
       "    </tr>\n",
       "  </thead>\n",
       "  <tbody>\n",
       "    <tr>\n",
       "      <th>Treatment</th>\n",
       "      <td>1.00</td>\n",
       "      <td>3.0</td>\n",
       "      <td>4.00</td>\n",
       "      <td>7.0</td>\n",
       "      <td>15.00</td>\n",
       "      <td>0.50</td>\n",
       "    </tr>\n",
       "    <tr>\n",
       "      <th>Service</th>\n",
       "      <td>0.33</td>\n",
       "      <td>1.0</td>\n",
       "      <td>2.00</td>\n",
       "      <td>5.0</td>\n",
       "      <td>8.33</td>\n",
       "      <td>0.28</td>\n",
       "    </tr>\n",
       "    <tr>\n",
       "      <th>Food</th>\n",
       "      <td>0.25</td>\n",
       "      <td>0.5</td>\n",
       "      <td>1.00</td>\n",
       "      <td>3.0</td>\n",
       "      <td>4.75</td>\n",
       "      <td>0.16</td>\n",
       "    </tr>\n",
       "    <tr>\n",
       "      <th>Distance</th>\n",
       "      <td>0.14</td>\n",
       "      <td>0.2</td>\n",
       "      <td>0.33</td>\n",
       "      <td>1.0</td>\n",
       "      <td>1.68</td>\n",
       "      <td>0.06</td>\n",
       "    </tr>\n",
       "  </tbody>\n",
       "</table>\n",
       "</div>"
      ],
      "text/plain": [
       "           Treatment  Service  Food  Distance    Sum  Norm_sum\n",
       "Treatment       1.00      3.0  4.00       7.0  15.00      0.50\n",
       "Service         0.33      1.0  2.00       5.0   8.33      0.28\n",
       "Food            0.25      0.5  1.00       3.0   4.75      0.16\n",
       "Distance        0.14      0.2  0.33       1.0   1.68      0.06"
      ]
     },
     "execution_count": 196,
     "metadata": {},
     "output_type": "execute_result"
    }
   ],
   "source": [
    "prior = [[1, 3, 4, 7],\n",
    "        [1/3, 1, 2, 5],\n",
    "        [1/4, 1/2, 1, 3],\n",
    "        [1/7, 1/5, 1/3, 1]]\n",
    "prior_df = get_df(prior, columns)\n",
    "prior_df.round(2)"
   ]
  },
  {
   "cell_type": "code",
   "execution_count": 197,
   "id": "dacff0c4",
   "metadata": {},
   "outputs": [
    {
     "name": "stdout",
     "output_type": "stream",
     "text": [
      "Отношение согласованности для приоритетов: 0.096\n"
     ]
    }
   ],
   "source": [
    "print(\"Отношение согласованности для приоритетов:\", \\\n",
    "      get_consist_relat(prior_df).round(3))"
   ]
  },
  {
   "cell_type": "markdown",
   "id": "0c6808f8",
   "metadata": {},
   "source": [
    "Составим матрицу (i – альтернатива, j - критерий) и умножим на столбец\n",
    "оценки приоритетов:"
   ]
  },
  {
   "cell_type": "code",
   "execution_count": 200,
   "id": "62a38ac4",
   "metadata": {},
   "outputs": [
    {
     "name": "stdout",
     "output_type": "stream",
     "text": [
      "[[0.32]\n",
      " [0.2 ]\n",
      " [0.16]\n",
      " [0.32]]\n"
     ]
    }
   ],
   "source": [
    "matrix = np.c_[treat_df.values[:, 5], service_df.values[:, 5], \\\n",
    "               food_df.values[:, 5], dist_df.values[:, 5]]\n",
    "prior_vec = prior_df.values[:, 5].reshape(4, -1)\n",
    "\n",
    "print(np.matmul(matrix, prior_vec).round(2))"
   ]
  },
  {
   "cell_type": "markdown",
   "id": "db260371",
   "metadata": {},
   "source": [
    "Оценив полученный вектор, можем сделать вывод, что есть 2 примерно равных по оптимальности варианта: \"Липецк\" и \"Сосны\". Результат этой оптимальности во многом зависит от оценки приоритетов критериев"
   ]
  }
 ],
 "metadata": {
  "kernelspec": {
   "display_name": "Python 3 (ipykernel)",
   "language": "python",
   "name": "python3"
  },
  "language_info": {
   "codemirror_mode": {
    "name": "ipython",
    "version": 3
   },
   "file_extension": ".py",
   "mimetype": "text/x-python",
   "name": "python",
   "nbconvert_exporter": "python",
   "pygments_lexer": "ipython3",
   "version": "3.9.7"
  }
 },
 "nbformat": 4,
 "nbformat_minor": 5
}
