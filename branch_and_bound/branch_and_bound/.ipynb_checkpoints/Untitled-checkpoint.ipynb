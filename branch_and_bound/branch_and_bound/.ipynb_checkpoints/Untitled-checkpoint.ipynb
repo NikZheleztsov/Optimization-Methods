{
 "cells": [
  {
   "cell_type": "markdown",
   "id": "c3d06b73",
   "metadata": {},
   "source": [
    "## Laboratory work № 3\n",
    "---\n",
    "### \"Branch and bound\"\n"
   ]
  },
  {
   "cell_type": "code",
   "execution_count": 1,
   "id": "365f003d",
   "metadata": {},
   "outputs": [],
   "source": [
    "import simplex.simplex as sm\n",
    "import simplex.table as tb\n",
    "import binarytree as bt\n",
    "from copy import deepcopy\n",
    "import sys\n",
    "from fractions import Fraction"
   ]
  },
  {
   "cell_type": "markdown",
   "id": "611253cd",
   "metadata": {},
   "source": [
    "**Solving the task**"
   ]
  },
  {
   "cell_type": "code",
   "execution_count": 2,
   "id": "dfcc58b3",
   "metadata": {},
   "outputs": [],
   "source": [
    "class Value:\n",
    "    def __init__(self, F, solution):\n",
    "        self.F = F\n",
    "        self.solution = solution\n",
    "        \n",
    "    def __str__(self):\n",
    "        str = \"F = % s\\n\" % (self.F)\n",
    "        for ind, key in enumerate(self.solution.keys()):\n",
    "            str += \"{}:{}   \".format(key, self.solution[key])\n",
    "            if (ind + 1) % 2 == 0:\n",
    "                str += '\\n'\n",
    "        return str\n",
    "    \n",
    "    def get_float(self):\n",
    "        for val in self.solution.items():\n",
    "            if not float(val[1]).is_integer():\n",
    "                return val[0]\n",
    "        return None\n",
    "        "
   ]
  },
  {
   "cell_type": "code",
   "execution_count": 3,
   "id": "bcc5f538",
   "metadata": {},
   "outputs": [],
   "source": [
    "def modify(a, b, c, float_key, value, is_right):\n",
    "    ind = int(float_key[2:])\n",
    "    add_to_a = [Fraction(0)] * len(a[0])\n",
    "    if is_right:\n",
    "        add_to_a[ind - 1] = Fraction(-1)\n",
    "        b.append((-1) * Fraction(value.__ceil__()))\n",
    "    else:\n",
    "        add_to_a[ind - 1] = Fraction(1)\n",
    "        b.append(Fraction(value.__floor__()))\n",
    "        \n",
    "    a.append(add_to_a)\n",
    "    return a, b, c"
   ]
  },
  {
   "cell_type": "code",
   "execution_count": 7,
   "id": "fa000525",
   "metadata": {},
   "outputs": [],
   "source": [
    "class Branch_and_bound:\n",
    "    def __init__(self, a, b, c, opt):\n",
    "        # Solving with simplex_method\n",
    "        F, solution, table = sm.simplex_internal(deepcopy(a), deepcopy(b), deepcopy(c), opt)\n",
    "        print_solution(F, solution, opt)\n",
    "        \n",
    "        # Solution of the init problem (ROOT)\n",
    "        self.value = Value(F, solution)\n",
    "        self.left = None\n",
    "        self.right = None\n",
    "        \n",
    "        # Recursive\n",
    "        if solution is not None:\n",
    "            float_key = self.value.get_float()\n",
    "            if float_key is not None:\n",
    "                # Left children\n",
    "                a_l, b_l, c_l = modify(a, b, c, float_key, solution[float_key], False)\n",
    "                self.left = Branch_and_bound(a_l, b_l, c_l, opt)\n",
    "            \n",
    "                # Right chilren \n",
    "                a_r, b_r, c_r = modify(a, b, c, float_key, solution[float_key], True)\n",
    "                self.left = Branch_and_bound(a_r, b_r, c_r, opt)\n",
    "            "
   ]
  },
  {
   "cell_type": "markdown",
   "id": "d4ec1b5f",
   "metadata": {},
   "source": [
    "**Data initialization**"
   ]
  },
  {
   "cell_type": "code",
   "execution_count": 5,
   "id": "c5669a43",
   "metadata": {},
   "outputs": [],
   "source": [
    "input_file = \"/home/nexus/projects/mo/branch_and_bound/data/data.txt\"\n",
    "a, b, c, opt = sm.parse(input_file)"
   ]
  },
  {
   "cell_type": "code",
   "execution_count": null,
   "id": "fe64d5e5",
   "metadata": {},
   "outputs": [],
   "source": [
    "sys.stdout = open('output.txt', 'w')\n",
    "solution = Branch_and_bound(a, b, c, opt)\n",
    "sys.stdout.close()"
   ]
  },
  {
   "cell_type": "code",
   "execution_count": null,
   "id": "0b5cb851",
   "metadata": {},
   "outputs": [],
   "source": []
  }
 ],
 "metadata": {
  "kernelspec": {
   "display_name": "Python 3 (ipykernel)",
   "language": "python",
   "name": "python3"
  },
  "language_info": {
   "codemirror_mode": {
    "name": "ipython",
    "version": 3
   },
   "file_extension": ".py",
   "mimetype": "text/x-python",
   "name": "python",
   "nbconvert_exporter": "python",
   "pygments_lexer": "ipython3",
   "version": "3.9.7"
  }
 },
 "nbformat": 4,
 "nbformat_minor": 5
}
